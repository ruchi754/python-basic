{
  "nbformat": 4,
  "nbformat_minor": 0,
  "metadata": {
    "colab": {
      "provenance": [],
      "authorship_tag": "ABX9TyNhoQyTRA5aa+5Em4nLPtzO",
      "include_colab_link": true
    },
    "kernelspec": {
      "name": "python3",
      "display_name": "Python 3"
    },
    "language_info": {
      "name": "python"
    }
  },
  "cells": [
    {
      "cell_type": "markdown",
      "metadata": {
        "id": "view-in-github",
        "colab_type": "text"
      },
      "source": [
        "<a href=\"https://colab.research.google.com/github/ruchi754/python-basic/blob/main/pyhton_basic.ipynb\" target=\"_parent\"><img src=\"https://colab.research.google.com/assets/colab-badge.svg\" alt=\"Open In Colab\"/></a>"
      ]
    },
    {
      "cell_type": "code",
      "execution_count": null,
      "metadata": {
        "colab": {
          "base_uri": "https://localhost:8080/"
        },
        "id": "C4RLXm8CwboZ",
        "outputId": "537565bf-eb71-4167-fc2e-3081e06b1111"
      },
      "outputs": [
        {
          "output_type": "stream",
          "name": "stdout",
          "text": [
            "hello world\n"
          ]
        }
      ],
      "source": [
        "print(\"hello world\")"
      ]
    },
    {
      "cell_type": "markdown",
      "source": [],
      "metadata": {
        "id": "V70rxMYUHwg3"
      }
    },
    {
      "cell_type": "markdown",
      "source": [],
      "metadata": {
        "id": "LL59-OlfHyFG"
      }
    },
    {
      "cell_type": "markdown",
      "source": [],
      "metadata": {
        "id": "qyX5Es3Jw_vp"
      }
    },
    {
      "cell_type": "code",
      "source": [
        "name = input(\"ruchi:\")\n",
        "age = input(\"29:\")\n",
        "print(\"Hi, my name is\"+ ruchi +\",and i am\" +age +\"29.\")"
      ],
      "metadata": {
        "id": "Y-h9JhTIxK_8"
      },
      "execution_count": null,
      "outputs": []
    },
    {
      "cell_type": "markdown",
      "source": [],
      "metadata": {
        "id": "LUybGakFyPTc"
      }
    },
    {
      "cell_type": "code",
      "source": [],
      "metadata": {
        "id": "y8bqZPW8Crha"
      },
      "execution_count": null,
      "outputs": []
    },
    {
      "cell_type": "markdown",
      "source": [],
      "metadata": {
        "id": "hn-9CbLWHiWn"
      }
    },
    {
      "cell_type": "markdown",
      "source": [
        "1- What is Python, and why is it popular?\n",
        "   --python is a popular programming because its easy to learn, versatile, and can be used for many purposes:\n",
        "   **easy to learn:** python's syntax is similar to English, making it beginner- friendly.\n",
        "   **Versatile: python is a general -purpose language that can be used for many defferent tasks, including data analysis, web development and software development\n",
        "   python is commonly used in many technolgies and application, including YouTube for vedio processing and search engines for data analysis.\n"
      ],
      "metadata": {
        "id": "PjhNJXehIAtF"
      }
    }
  ]
}